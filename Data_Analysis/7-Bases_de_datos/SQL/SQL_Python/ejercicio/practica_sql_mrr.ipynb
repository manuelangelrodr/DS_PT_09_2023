{
 "cells": [
  {
   "cell_type": "code",
   "execution_count": 1,
   "metadata": {},
   "outputs": [],
   "source": [
    "import pandas as pd\n",
    "import sqlite3"
   ]
  },
  {
   "cell_type": "markdown",
   "metadata": {},
   "source": [
    "## Instancia de BBDD"
   ]
  },
  {
   "cell_type": "code",
   "execution_count": 2,
   "metadata": {},
   "outputs": [],
   "source": [
    "# Conectamos con la base de datos chinook.db\n",
    "connection = sqlite3.connect(\"data/Bar_TB.db\")\n",
    "\n",
    "# Obtenemos un cursor que utilizaremos para hacer las queries\n",
    "crsr = connection.cursor()"
   ]
  },
  {
   "cell_type": "markdown",
   "metadata": {},
   "source": [
    "### Funcion para interactuar con la base de datos"
   ]
  },
  {
   "cell_type": "code",
   "execution_count": 3,
   "metadata": {},
   "outputs": [],
   "source": [
    "# Con esta función leemos los datos y lo pasamos a un DataFrame de Pandas\n",
    "def sql_query(query):\n",
    "\n",
    "    # Ejecuta la query\n",
    "    crsr.execute(query)\n",
    "\n",
    "    # Almacena los datos de la query \n",
    "    ans = crsr.fetchall()\n",
    "\n",
    "    # Obtenemos los nombres de las columnas de la tabla\n",
    "    names = [description[0] for description in crsr.description]\n",
    "\n",
    "    return pd.DataFrame(ans,columns=names)"
   ]
  },
  {
   "cell_type": "markdown",
   "metadata": {},
   "source": [
    "## Crear las tablas"
   ]
  },
  {
   "cell_type": "code",
   "execution_count": 4,
   "metadata": {},
   "outputs": [],
   "source": [
    "res = crsr.execute(\"SELECT name FROM sqlite_master WHERE type='table'\")\n",
    "for name in res:\n",
    "    print(name[0])"
   ]
  },
  {
   "cell_type": "markdown",
   "metadata": {},
   "source": [
    "### Tabla Cerveza"
   ]
  },
  {
   "cell_type": "code",
   "execution_count": 5,
   "metadata": {},
   "outputs": [
    {
     "data": {
      "text/plain": [
       "<sqlite3.Cursor at 0x13f57cb3dc0>"
      ]
     },
     "execution_count": 5,
     "metadata": {},
     "output_type": "execute_result"
    }
   ],
   "source": [
    "query_cerveza = \"\"\"\n",
    "CREATE TABLE cerveza (\n",
    "    CodC VARCHAR(3),\n",
    "    Envase VARCHAR(50),\n",
    "    Capacidad FLOAT,\n",
    "    Stock INT\n",
    ") \n",
    "\"\"\"\n",
    "\n",
    "crsr.execute(query_cerveza)\n"
   ]
  },
  {
   "cell_type": "markdown",
   "metadata": {},
   "source": [
    "### Tabla Bares"
   ]
  },
  {
   "cell_type": "code",
   "execution_count": 6,
   "metadata": {},
   "outputs": [
    {
     "data": {
      "text/plain": [
       "<sqlite3.Cursor at 0x13f57cb3dc0>"
      ]
     },
     "execution_count": 6,
     "metadata": {},
     "output_type": "execute_result"
    }
   ],
   "source": [
    "query_bares = \"\"\"\n",
    "CREATE TABLE bares (\n",
    "    CodB VARCHAR(4),\n",
    "    Nombre VARCHAR(50),\n",
    "    Cif VARCHAR(10),\n",
    "    Localidad VARCHAR(50)\n",
    ")    \n",
    "\"\"\"\n",
    "\n",
    "crsr.execute(query_bares)"
   ]
  },
  {
   "cell_type": "markdown",
   "metadata": {},
   "source": [
    "### Tabla Empleados"
   ]
  },
  {
   "cell_type": "code",
   "execution_count": 7,
   "metadata": {},
   "outputs": [
    {
     "data": {
      "text/plain": [
       "<sqlite3.Cursor at 0x13f57cb3dc0>"
      ]
     },
     "execution_count": 7,
     "metadata": {},
     "output_type": "execute_result"
    }
   ],
   "source": [
    "query_empleados = \"\"\"\n",
    "CREATE TABLE empleados (\n",
    "    CodE VARCHAR(2),\n",
    "    Nombre VARCHAR(50),\n",
    "    Sueldo INT\n",
    ")    \n",
    "\"\"\"\n",
    "\n",
    "crsr.execute(query_empleados)"
   ]
  },
  {
   "cell_type": "markdown",
   "metadata": {},
   "source": [
    "### Tabla Reparto"
   ]
  },
  {
   "cell_type": "code",
   "execution_count": 8,
   "metadata": {},
   "outputs": [
    {
     "data": {
      "text/plain": [
       "<sqlite3.Cursor at 0x13f57cb3dc0>"
      ]
     },
     "execution_count": 8,
     "metadata": {},
     "output_type": "execute_result"
    }
   ],
   "source": [
    "query_reparto = \"\"\"\n",
    "CREATE TABLE reparto (\n",
    "    CodE VARCHAR(2),\n",
    "    CodB VARCHAR(4),\n",
    "    CodC VARCHAR(3),\n",
    "    Fecha DATE,\n",
    "    Cantidad INT\n",
    ")    \n",
    "\"\"\"\n",
    "\n",
    "crsr.execute(query_reparto)"
   ]
  },
  {
   "cell_type": "markdown",
   "metadata": {},
   "source": [
    "## Insertar Datos"
   ]
  },
  {
   "cell_type": "code",
   "execution_count": 9,
   "metadata": {},
   "outputs": [
    {
     "data": {
      "text/plain": [
       "<sqlite3.Cursor at 0x13f57cb3dc0>"
      ]
     },
     "execution_count": 9,
     "metadata": {},
     "output_type": "execute_result"
    }
   ],
   "source": [
    "# Insertamos datos en la tabla cerveza\n",
    "query_insert = \"\"\"\n",
    "INSERT INTO cerveza VALUES\n",
    "('01', 'Botella', 0.2, 3600),\n",
    "('02', 'Botella', 0.33, 1200),\n",
    "('03', 'Lata', 0.33, 2400),\n",
    "('04', 'Botella', 1, 288),\n",
    "('05', 'Barril', 60, 30)\n",
    "\"\"\"\n",
    "crsr.execute(query_insert)"
   ]
  },
  {
   "cell_type": "code",
   "execution_count": 10,
   "metadata": {},
   "outputs": [
    {
     "data": {
      "text/plain": [
       "<sqlite3.Cursor at 0x13f57cb3dc0>"
      ]
     },
     "execution_count": 10,
     "metadata": {},
     "output_type": "execute_result"
    }
   ],
   "source": [
    "# Insertamos datos en la tabla reparto\n",
    "query_insert2 = \"\"\"\n",
    "INSERT INTO reparto (CodE, CodB, CodC, Fecha, Cantidad) VALUES\n",
    "('1','001','01','2005-10-21',240),\n",
    "('1','001','02','2005-10-21',48),\n",
    "('1','002','03','2005-10-22',60),\n",
    "('1','004','05','2005-10-22',4),\n",
    "('2','002','03','2005-10-22',48),\n",
    "('2','002','05','2005-10-23',2),\n",
    "('2','004','00','2005-10-23',480),\n",
    "('2','004','02','2005-10-24',72),\n",
    "('3','003','03','2005-10-24',48),\n",
    "('3','003','04','2005-10-25',20)\n",
    "\"\"\"\n",
    "\n",
    "crsr.execute(query_insert2)"
   ]
  },
  {
   "cell_type": "code",
   "execution_count": 11,
   "metadata": {},
   "outputs": [
    {
     "data": {
      "text/plain": [
       "4"
      ]
     },
     "execution_count": 11,
     "metadata": {},
     "output_type": "execute_result"
    }
   ],
   "source": [
    "# Insertamos datos en la tabla Bares\n",
    "\n",
    "bares=pd.DataFrame({\n",
    "                    \"CodB\": [\"001\",\"002\",\"003\",\"004\"],\n",
    "                    \"Nombre\": [\"Stop\",\"Las Vegas\",\"Club Social\",\"Otra Ronda\"],\n",
    "                    \"Cif\": [\"11111111X\",\"22222222Y\",None,\"33333333Z\"],\n",
    "                    \"Localidad\":[\"Villa Botijo\",\"Villa Botijo\",\"Las Ranas\",\"La Esponja\"]\n",
    "                    })\n",
    "bares\n",
    "\n",
    "bares.to_sql(name='bares',con=connection,if_exists=\"append\",index=False)"
   ]
  },
  {
   "cell_type": "code",
   "execution_count": 12,
   "metadata": {},
   "outputs": [
    {
     "data": {
      "text/plain": [
       "3"
      ]
     },
     "execution_count": 12,
     "metadata": {},
     "output_type": "execute_result"
    }
   ],
   "source": [
    "# Insertamos datos en la tabla Bares\n",
    "\n",
    "empleados=pd.DataFrame({\n",
    "                    \"CodE\": [\"1\",\"2\",\"3\"],\n",
    "                    \"Nombre\": [\"Prudencio Caminero\",\"Vicente Merario\",\"Valentin Siempre\"],\n",
    "                    \"Sueldo\": [120000,110000,100000],\n",
    "                    })\n",
    "empleados\n",
    "\n",
    "empleados.to_sql(name='empleados',con=connection,if_exists=\"append\",index=False)"
   ]
  },
  {
   "cell_type": "code",
   "execution_count": 13,
   "metadata": {},
   "outputs": [],
   "source": [
    "connection.commit()"
   ]
  },
  {
   "cell_type": "code",
   "execution_count": 14,
   "metadata": {},
   "outputs": [],
   "source": [
    "connection.close()"
   ]
  },
  {
   "cell_type": "markdown",
   "metadata": {},
   "source": [
    "## Respuestas"
   ]
  },
  {
   "cell_type": "code",
   "execution_count": 15,
   "metadata": {},
   "outputs": [],
   "source": [
    "# Conectamos con la base de datos chinook.db\n",
    "connection = sqlite3.connect(\"data/Bar_TB.db\")\n",
    "\n",
    "# Obtenemos un cursor que utilizaremos para hacer las queries\n",
    "crsr = connection.cursor()"
   ]
  },
  {
   "cell_type": "code",
   "execution_count": 16,
   "metadata": {},
   "outputs": [
    {
     "data": {
      "text/html": [
       "<div>\n",
       "<style scoped>\n",
       "    .dataframe tbody tr th:only-of-type {\n",
       "        vertical-align: middle;\n",
       "    }\n",
       "\n",
       "    .dataframe tbody tr th {\n",
       "        vertical-align: top;\n",
       "    }\n",
       "\n",
       "    .dataframe thead th {\n",
       "        text-align: right;\n",
       "    }\n",
       "</style>\n",
       "<table border=\"1\" class=\"dataframe\">\n",
       "  <thead>\n",
       "    <tr style=\"text-align: right;\">\n",
       "      <th></th>\n",
       "      <th>Nombre</th>\n",
       "    </tr>\n",
       "  </thead>\n",
       "  <tbody>\n",
       "    <tr>\n",
       "      <th>0</th>\n",
       "      <td>Prudencio Caminero</td>\n",
       "    </tr>\n",
       "  </tbody>\n",
       "</table>\n",
       "</div>"
      ],
      "text/plain": [
       "               Nombre\n",
       "0  Prudencio Caminero"
      ]
     },
     "execution_count": 16,
     "metadata": {},
     "output_type": "execute_result"
    }
   ],
   "source": [
    "#1 Obtener  el  nombre    de  los  empleados   que  hayan  repartido  al  bar  Stop  durante la semana del 17 al 23 de octubre de 2005\n",
    "query1 = \"\"\"\n",
    "SELECT DISTINCT\n",
    "e.Nombre\n",
    "FROM empleados e\n",
    "INNER JOIN reparto r\n",
    "ON e.CodE = r.CodE\n",
    "INNER JOIN bares b\n",
    "ON b.CodB = r.CodB\n",
    "WHERE b.Nombre = 'Stop' AND r.Fecha BETWEEN '2005-10-17' AND '2005-10-23'\n",
    "\"\"\"\n",
    "sql_query(query1)"
   ]
  }
 ],
 "metadata": {
  "kernelspec": {
   "display_name": ".venv",
   "language": "python",
   "name": "python3"
  },
  "language_info": {
   "codemirror_mode": {
    "name": "ipython",
    "version": 3
   },
   "file_extension": ".py",
   "mimetype": "text/x-python",
   "name": "python",
   "nbconvert_exporter": "python",
   "pygments_lexer": "ipython3",
   "version": "3.11.3"
  }
 },
 "nbformat": 4,
 "nbformat_minor": 2
}
