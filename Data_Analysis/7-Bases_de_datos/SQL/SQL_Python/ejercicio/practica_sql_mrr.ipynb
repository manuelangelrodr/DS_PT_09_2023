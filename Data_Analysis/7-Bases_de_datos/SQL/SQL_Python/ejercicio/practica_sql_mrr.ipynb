{
 "cells": [
  {
   "cell_type": "code",
   "execution_count": 3,
   "metadata": {},
   "outputs": [],
   "source": [
    "import pandas as pd\n",
    "import sqlite3"
   ]
  },
  {
   "cell_type": "markdown",
   "metadata": {},
   "source": [
    "## Instancia de BBDD"
   ]
  },
  {
   "cell_type": "code",
   "execution_count": 4,
   "metadata": {},
   "outputs": [],
   "source": [
    "# Conectamos con la base de datos chinook.db\n",
    "connection = sqlite3.connect(\"data/Bar_TB.db\")\n",
    "\n",
    "# Obtenemos un cursor que utilizaremos para hacer las queries\n",
    "crsr = connection.cursor()"
   ]
  },
  {
   "cell_type": "markdown",
   "metadata": {},
   "source": [
    "### Funcion para interactuar con la base de datos"
   ]
  },
  {
   "cell_type": "code",
   "execution_count": 5,
   "metadata": {},
   "outputs": [],
   "source": [
    "# Con esta función leemos los datos y lo pasamos a un DataFrame de Pandas\n",
    "def sql_query(query):\n",
    "\n",
    "    # Ejecuta la query\n",
    "    crsr.execute(query)\n",
    "\n",
    "    # Almacena los datos de la query \n",
    "    ans = crsr.fetchall()\n",
    "\n",
    "    # Obtenemos los nombres de las columnas de la tabla\n",
    "    names = [description[0] for description in crsr.description]\n",
    "\n",
    "    return pd.DataFrame(ans,columns=names)"
   ]
  },
  {
   "cell_type": "markdown",
   "metadata": {},
   "source": [
    "## Crear las tablas"
   ]
  },
  {
   "cell_type": "code",
   "execution_count": 6,
   "metadata": {},
   "outputs": [
    {
     "name": "stdout",
     "output_type": "stream",
     "text": [
      "Cerveza\n"
     ]
    }
   ],
   "source": [
    "res = crsr.execute(\"SELECT name FROM sqlite_master WHERE type='table'\")\n",
    "for name in res:\n",
    "    print(name[0])"
   ]
  },
  {
   "cell_type": "markdown",
   "metadata": {},
   "source": [
    "### Tabla Cerveza"
   ]
  },
  {
   "cell_type": "code",
   "execution_count": 7,
   "metadata": {},
   "outputs": [
    {
     "ename": "OperationalError",
     "evalue": "table Cerveza already exists",
     "output_type": "error",
     "traceback": [
      "\u001b[1;31m---------------------------------------------------------------------------\u001b[0m",
      "\u001b[1;31mOperationalError\u001b[0m                          Traceback (most recent call last)",
      "\u001b[1;32mc:\\Users\\manue\\OneDrive\\Documentos\\GitHub\\DS_PT_09_2023\\Data_Analysis\\7-Bases_de_datos\\SQL\\SQL_Python\\ejercicio\\practica_sql_mrr.ipynb Cell 9\u001b[0m line \u001b[0;36m1\n\u001b[0;32m      <a href='vscode-notebook-cell:/c%3A/Users/manue/OneDrive/Documentos/GitHub/DS_PT_09_2023/Data_Analysis/7-Bases_de_datos/SQL/SQL_Python/ejercicio/practica_sql_mrr.ipynb#X11sZmlsZQ%3D%3D?line=0'>1</a>\u001b[0m query_cerveza \u001b[39m=\u001b[39m \u001b[39m\"\"\"\u001b[39m\n\u001b[0;32m      <a href='vscode-notebook-cell:/c%3A/Users/manue/OneDrive/Documentos/GitHub/DS_PT_09_2023/Data_Analysis/7-Bases_de_datos/SQL/SQL_Python/ejercicio/practica_sql_mrr.ipynb#X11sZmlsZQ%3D%3D?line=1'>2</a>\u001b[0m \u001b[39mCREATE TABLE Cerveza (\u001b[39m\n\u001b[0;32m      <a href='vscode-notebook-cell:/c%3A/Users/manue/OneDrive/Documentos/GitHub/DS_PT_09_2023/Data_Analysis/7-Bases_de_datos/SQL/SQL_Python/ejercicio/practica_sql_mrr.ipynb#X11sZmlsZQ%3D%3D?line=2'>3</a>\u001b[0m \u001b[39m    CodC VARCHAR(3),\u001b[39m\n\u001b[1;32m   (...)\u001b[0m\n\u001b[0;32m      <a href='vscode-notebook-cell:/c%3A/Users/manue/OneDrive/Documentos/GitHub/DS_PT_09_2023/Data_Analysis/7-Bases_de_datos/SQL/SQL_Python/ejercicio/practica_sql_mrr.ipynb#X11sZmlsZQ%3D%3D?line=6'>7</a>\u001b[0m \u001b[39m)\u001b[39m\n\u001b[0;32m      <a href='vscode-notebook-cell:/c%3A/Users/manue/OneDrive/Documentos/GitHub/DS_PT_09_2023/Data_Analysis/7-Bases_de_datos/SQL/SQL_Python/ejercicio/practica_sql_mrr.ipynb#X11sZmlsZQ%3D%3D?line=7'>8</a>\u001b[0m \u001b[39m\"\"\"\u001b[39m\n\u001b[1;32m---> <a href='vscode-notebook-cell:/c%3A/Users/manue/OneDrive/Documentos/GitHub/DS_PT_09_2023/Data_Analysis/7-Bases_de_datos/SQL/SQL_Python/ejercicio/practica_sql_mrr.ipynb#X11sZmlsZQ%3D%3D?line=9'>10</a>\u001b[0m crsr\u001b[39m.\u001b[39;49mexecute(query_cerveza)\n",
      "\u001b[1;31mOperationalError\u001b[0m: table Cerveza already exists"
     ]
    }
   ],
   "source": [
    "query_cerveza = \"\"\"\n",
    "CREATE TABLE Cerveza (\n",
    "    CodC VARCHAR(3),\n",
    "    Enavase VARCHAR(50),\n",
    "    Capacidad FLOAT,\n",
    "    Stock INT\n",
    ")\n",
    "\"\"\"\n",
    "\n",
    "crsr.execute(query_cerveza)\n"
   ]
  },
  {
   "cell_type": "markdown",
   "metadata": {},
   "source": [
    "### Tabla Bares"
   ]
  },
  {
   "cell_type": "code",
   "execution_count": 9,
   "metadata": {},
   "outputs": [
    {
     "data": {
      "text/plain": [
       "<sqlite3.Cursor at 0x184c2d29d40>"
      ]
     },
     "execution_count": 9,
     "metadata": {},
     "output_type": "execute_result"
    }
   ],
   "source": [
    "query_bares = \"\"\"\n",
    "CREATE TABLE Bares (\n",
    "    CodB VARCHAR(3),\n",
    "    Nombre VARCHAR(50),\n",
    "    Cif VARCHAR(10),\n",
    "    Localidad VARCHAR(50)\n",
    ")\n",
    "\"\"\"\n",
    "\n",
    "crsr.execute(query_bares)"
   ]
  },
  {
   "cell_type": "markdown",
   "metadata": {},
   "source": [
    "### Tabla Empleados"
   ]
  },
  {
   "cell_type": "code",
   "execution_count": null,
   "metadata": {},
   "outputs": [],
   "source": [
    "query_empleados = \"\"\"\n",
    "CREATE TABLE Empleados (\n",
    "    CodE VARCHAR(2),\n",
    "    Nombre VARCHAR(50),\n",
    "    Sueldo(10),\n",
    ")\n",
    "\"\"\"\n",
    "\n",
    "crsr.execute(query_empleados)"
   ]
  },
  {
   "cell_type": "markdown",
   "metadata": {},
   "source": [
    "### Tabla Reparto"
   ]
  },
  {
   "cell_type": "markdown",
   "metadata": {},
   "source": [
    "## Insertar Datos"
   ]
  },
  {
   "cell_type": "code",
   "execution_count": 10,
   "metadata": {},
   "outputs": [
    {
     "data": {
      "text/plain": [
       "<sqlite3.Cursor at 0x184c2d29d40>"
      ]
     },
     "execution_count": 10,
     "metadata": {},
     "output_type": "execute_result"
    }
   ],
   "source": [
    "# Insertamos datos en la tabla Cerveza\n",
    "query_insert = \"\"\"\n",
    "INSERT INTO Cerveza VALUES\n",
    "('01', 'Botella', 0.2, 3600),\n",
    "('02', 'Botella', 0.33, 1200),\n",
    "('03', 'Lata', 0.33, 2400),\n",
    "('04', 'Botella', 1, 288),\n",
    "('05', 'Barril', 60, 30)\n",
    "\"\"\"\n",
    "\n",
    "crsr.execute(query_insert)"
   ]
  },
  {
   "cell_type": "code",
   "execution_count": 11,
   "metadata": {},
   "outputs": [
    {
     "data": {
      "text/html": [
       "<div>\n",
       "<style scoped>\n",
       "    .dataframe tbody tr th:only-of-type {\n",
       "        vertical-align: middle;\n",
       "    }\n",
       "\n",
       "    .dataframe tbody tr th {\n",
       "        vertical-align: top;\n",
       "    }\n",
       "\n",
       "    .dataframe thead th {\n",
       "        text-align: right;\n",
       "    }\n",
       "</style>\n",
       "<table border=\"1\" class=\"dataframe\">\n",
       "  <thead>\n",
       "    <tr style=\"text-align: right;\">\n",
       "      <th></th>\n",
       "      <th>CodC</th>\n",
       "      <th>Enavase</th>\n",
       "      <th>Capacidad</th>\n",
       "      <th>Stock</th>\n",
       "    </tr>\n",
       "  </thead>\n",
       "  <tbody>\n",
       "    <tr>\n",
       "      <th>0</th>\n",
       "      <td>01</td>\n",
       "      <td>Botella</td>\n",
       "      <td>0.20</td>\n",
       "      <td>3600</td>\n",
       "    </tr>\n",
       "    <tr>\n",
       "      <th>1</th>\n",
       "      <td>02</td>\n",
       "      <td>Botella</td>\n",
       "      <td>0.33</td>\n",
       "      <td>1200</td>\n",
       "    </tr>\n",
       "    <tr>\n",
       "      <th>2</th>\n",
       "      <td>03</td>\n",
       "      <td>Lata</td>\n",
       "      <td>0.33</td>\n",
       "      <td>2400</td>\n",
       "    </tr>\n",
       "    <tr>\n",
       "      <th>3</th>\n",
       "      <td>04</td>\n",
       "      <td>Botella</td>\n",
       "      <td>1.00</td>\n",
       "      <td>288</td>\n",
       "    </tr>\n",
       "    <tr>\n",
       "      <th>4</th>\n",
       "      <td>05</td>\n",
       "      <td>Barril</td>\n",
       "      <td>60.00</td>\n",
       "      <td>30</td>\n",
       "    </tr>\n",
       "  </tbody>\n",
       "</table>\n",
       "</div>"
      ],
      "text/plain": [
       "  CodC  Enavase  Capacidad  Stock\n",
       "0   01  Botella       0.20   3600\n",
       "1   02  Botella       0.33   1200\n",
       "2   03     Lata       0.33   2400\n",
       "3   04  Botella       1.00    288\n",
       "4   05   Barril      60.00     30"
      ]
     },
     "execution_count": 11,
     "metadata": {},
     "output_type": "execute_result"
    }
   ],
   "source": [
    "pd.read_sql(\"SELECT * FROM Cerveza\", connection)"
   ]
  },
  {
   "cell_type": "code",
   "execution_count": null,
   "metadata": {},
   "outputs": [],
   "source": [
    "# Insertamos datos en la tabla Reparto\n",
    "query_insert2 = \"\"\"\n",
    "INSERT INTO Reparto (CodE, CodC, Fecha, Cantidad) VALUES\n",
    "('1', '001', '01', '10/21/05', 240),\n",
    "(2, 001, 02, 10/21/05, 48),\n",
    "(3, 003, 01, 10/21/05, 240),\n",
    "(4, 004, 01, 10/21/05, 240),\n",
    "(5, 005, 01, 10/21/05, 240)\n",
    "\"\"\"\n",
    "\n",
    "crsr.execute(query_insert2)\n"
   ]
  },
  {
   "cell_type": "code",
   "execution_count": null,
   "metadata": {},
   "outputs": [],
   "source": [
    "pd.read_sql(\"SELECT * FROM Reparto\", connection)"
   ]
  },
  {
   "cell_type": "markdown",
   "metadata": {},
   "source": [
    "## Respuestas"
   ]
  }
 ],
 "metadata": {
  "kernelspec": {
   "display_name": ".venv",
   "language": "python",
   "name": "python3"
  },
  "language_info": {
   "codemirror_mode": {
    "name": "ipython",
    "version": 3
   },
   "file_extension": ".py",
   "mimetype": "text/x-python",
   "name": "python",
   "nbconvert_exporter": "python",
   "pygments_lexer": "ipython3",
   "version": "3.11.3"
  }
 },
 "nbformat": 4,
 "nbformat_minor": 2
}
